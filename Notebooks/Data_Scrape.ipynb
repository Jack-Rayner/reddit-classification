{
 "cells": [
  {
   "cell_type": "markdown",
   "id": "9e092da0-56c7-43eb-8b08-15301a30ec0e",
   "metadata": {},
   "source": [
    "## Imports\n",
    "___"
   ]
  },
  {
   "cell_type": "code",
   "execution_count": 1,
   "id": "15361d8c-9339-4b02-8c03-9a5a24334a30",
   "metadata": {},
   "outputs": [],
   "source": [
    "import pandas as pd\n",
    "import numpy as np\n",
    "import requests\n",
    "import time"
   ]
  },
  {
   "cell_type": "code",
   "execution_count": 2,
   "id": "fa115519-fb8c-4b3f-b2e7-7122316f4ae0",
   "metadata": {},
   "outputs": [],
   "source": [
    "base_url = 'https://api.pushshift.io/reddit/search/submission'"
   ]
  },
  {
   "cell_type": "markdown",
   "id": "b24311b7-0c24-4a32-97a0-f2ff3bad0c42",
   "metadata": {},
   "source": [
    "## Sub 1\n",
    "___"
   ]
  },
  {
   "cell_type": "code",
   "execution_count": 3,
   "id": "7b2cbfff-9f37-459f-8a42-90fb1de4fae5",
   "metadata": {},
   "outputs": [],
   "source": [
    "#create df (will be overwritten later)\n",
    "posts_sci = pd.DataFrame()"
   ]
  },
  {
   "cell_type": "code",
   "execution_count": 4,
   "id": "0e755f37-aac7-47a8-92d3-3f6482022e4f",
   "metadata": {},
   "outputs": [],
   "source": [
    "#assign last current value\n",
    "last = int(time.time())"
   ]
  },
  {
   "cell_type": "code",
   "execution_count": 5,
   "id": "bc3c3dd2-ce63-4002-bbf3-219ca97e6b43",
   "metadata": {
    "tags": []
   },
   "outputs": [],
   "source": [
    "while posts_sci.shape[0] < 1000:\n",
    "    params = {\n",
    "'subreddit' : 'askscience',\n",
    "'size' : 100,\n",
    "'before' : last,\n",
    "}\n",
    "    res_sci = requests.get(base_url, params=params)\n",
    "    if res_sci.status_code == 200:\n",
    "#         if successful\n",
    "        if int(posts_sci.shape[0]) == 0:\n",
    "#             if this is the first time, overwrite the existing df\n",
    "            posts_sci = pd.DataFrame(res_sci.json()['data'])[['title', 'selftext', 'subreddit', 'created_utc']]\n",
    "            last = posts_sci['created_utc'].values[-1]\n",
    "            time.sleep(7)\n",
    "        else:\n",
    "#             otherwise merge the new data with the existing df\n",
    "            data = res_sci.json()\n",
    "            posts_sci2 = pd.DataFrame(res_sci.json()['data'])[['title', 'selftext', 'subreddit', 'created_utc']]\n",
    "            posts_sci = pd.concat([posts_sci, \n",
    "                       posts_sci2], ignore_index=True)\n",
    "            last = posts_sci['created_utc'].values[-1]\n",
    "            time.sleep(7)\n",
    "    else:\n",
    "        print('a problem occured')"
   ]
  },
  {
   "cell_type": "code",
   "execution_count": 6,
   "id": "f9dfc238-57ed-48e0-bcdc-21634f8f1338",
   "metadata": {},
   "outputs": [
    {
     "data": {
      "text/html": [
       "<div>\n",
       "<style scoped>\n",
       "    .dataframe tbody tr th:only-of-type {\n",
       "        vertical-align: middle;\n",
       "    }\n",
       "\n",
       "    .dataframe tbody tr th {\n",
       "        vertical-align: top;\n",
       "    }\n",
       "\n",
       "    .dataframe thead th {\n",
       "        text-align: right;\n",
       "    }\n",
       "</style>\n",
       "<table border=\"1\" class=\"dataframe\">\n",
       "  <thead>\n",
       "    <tr style=\"text-align: right;\">\n",
       "      <th></th>\n",
       "      <th>title</th>\n",
       "      <th>selftext</th>\n",
       "      <th>subreddit</th>\n",
       "      <th>created_utc</th>\n",
       "    </tr>\n",
       "  </thead>\n",
       "  <tbody>\n",
       "    <tr>\n",
       "      <th>0</th>\n",
       "      <td>Can a nuclear bomb set off another nuke?</td>\n",
       "      <td>[removed]</td>\n",
       "      <td>askscience</td>\n",
       "      <td>1646168184</td>\n",
       "    </tr>\n",
       "    <tr>\n",
       "      <th>1</th>\n",
       "      <td>God forbid, Russia decides to go for the n nuc...</td>\n",
       "      <td>[removed]</td>\n",
       "      <td>askscience</td>\n",
       "      <td>1646168000</td>\n",
       "    </tr>\n",
       "    <tr>\n",
       "      <th>2</th>\n",
       "      <td>Why can the common cold coexist with Covid?</td>\n",
       "      <td>[removed]</td>\n",
       "      <td>askscience</td>\n",
       "      <td>1646167864</td>\n",
       "    </tr>\n",
       "    <tr>\n",
       "      <th>3</th>\n",
       "      <td>What fuel burns for the longest?</td>\n",
       "      <td>[removed]</td>\n",
       "      <td>askscience</td>\n",
       "      <td>1646167761</td>\n",
       "    </tr>\n",
       "    <tr>\n",
       "      <th>4</th>\n",
       "      <td>Electromagnetic force</td>\n",
       "      <td>[removed]</td>\n",
       "      <td>askscience</td>\n",
       "      <td>1646167434</td>\n",
       "    </tr>\n",
       "    <tr>\n",
       "      <th>...</th>\n",
       "      <td>...</td>\n",
       "      <td>...</td>\n",
       "      <td>...</td>\n",
       "      <td>...</td>\n",
       "    </tr>\n",
       "    <tr>\n",
       "      <th>995</th>\n",
       "      <td>Why do we have the tendency to speak unfiltere...</td>\n",
       "      <td>[removed]</td>\n",
       "      <td>askscience</td>\n",
       "      <td>1645735569</td>\n",
       "    </tr>\n",
       "    <tr>\n",
       "      <th>996</th>\n",
       "      <td>In terms of science what good has come out of ...</td>\n",
       "      <td>[removed]</td>\n",
       "      <td>askscience</td>\n",
       "      <td>1645735128</td>\n",
       "    </tr>\n",
       "    <tr>\n",
       "      <th>997</th>\n",
       "      <td>Is it possible to encode a woman's DNA into an...</td>\n",
       "      <td>[removed]</td>\n",
       "      <td>askscience</td>\n",
       "      <td>1645734797</td>\n",
       "    </tr>\n",
       "    <tr>\n",
       "      <th>998</th>\n",
       "      <td>Has the perception of taste and/or smell been ...</td>\n",
       "      <td>[removed]</td>\n",
       "      <td>askscience</td>\n",
       "      <td>1645734420</td>\n",
       "    </tr>\n",
       "    <tr>\n",
       "      <th>999</th>\n",
       "      <td>Why do (some of the) women have cold hands all...</td>\n",
       "      <td>[removed]</td>\n",
       "      <td>askscience</td>\n",
       "      <td>1645733680</td>\n",
       "    </tr>\n",
       "  </tbody>\n",
       "</table>\n",
       "<p>999 rows × 4 columns</p>\n",
       "</div>"
      ],
      "text/plain": [
       "                                                 title   selftext   subreddit  \\\n",
       "0             Can a nuclear bomb set off another nuke?  [removed]  askscience   \n",
       "1    God forbid, Russia decides to go for the n nuc...  [removed]  askscience   \n",
       "2          Why can the common cold coexist with Covid?  [removed]  askscience   \n",
       "3                     What fuel burns for the longest?  [removed]  askscience   \n",
       "4                                Electromagnetic force  [removed]  askscience   \n",
       "..                                                 ...        ...         ...   \n",
       "995  Why do we have the tendency to speak unfiltere...  [removed]  askscience   \n",
       "996  In terms of science what good has come out of ...  [removed]  askscience   \n",
       "997  Is it possible to encode a woman's DNA into an...  [removed]  askscience   \n",
       "998  Has the perception of taste and/or smell been ...  [removed]  askscience   \n",
       "999  Why do (some of the) women have cold hands all...  [removed]  askscience   \n",
       "\n",
       "     created_utc  \n",
       "0     1646168184  \n",
       "1     1646168000  \n",
       "2     1646167864  \n",
       "3     1646167761  \n",
       "4     1646167434  \n",
       "..           ...  \n",
       "995   1645735569  \n",
       "996   1645735128  \n",
       "997   1645734797  \n",
       "998   1645734420  \n",
       "999   1645733680  \n",
       "\n",
       "[999 rows x 4 columns]"
      ]
     },
     "execution_count": 6,
     "metadata": {},
     "output_type": "execute_result"
    }
   ],
   "source": [
    "posts_sci.drop_duplicates()"
   ]
  },
  {
   "cell_type": "code",
   "execution_count": 7,
   "id": "6bdb7075-a1c9-48a0-b66e-2e3ab7180b3c",
   "metadata": {},
   "outputs": [
    {
     "data": {
      "text/plain": [
       "1000"
      ]
     },
     "execution_count": 7,
     "metadata": {},
     "output_type": "execute_result"
    }
   ],
   "source": [
    "posts_sci.shape"
   ]
  },
  {
   "cell_type": "code",
   "execution_count": 8,
   "id": "3c85996c-0d92-4d04-a690-23c3de7889b6",
   "metadata": {
    "tags": []
   },
   "outputs": [
    {
     "data": {
      "text/plain": [
       "1645733680"
      ]
     },
     "execution_count": 8,
     "metadata": {},
     "output_type": "execute_result"
    }
   ],
   "source": [
    "posts_sci['created_utc'].values[-1]"
   ]
  },
  {
   "cell_type": "code",
   "execution_count": 9,
   "id": "22ad0461-12f7-442f-a7e6-cc13733815c4",
   "metadata": {
    "tags": []
   },
   "outputs": [
    {
     "data": {
      "text/plain": [
       "{'title': dtype('O'),\n",
       " 'selftext': dtype('O'),\n",
       " 'subreddit': dtype('O'),\n",
       " 'created_utc': dtype('int64')}"
      ]
     },
     "execution_count": 9,
     "metadata": {},
     "output_type": "execute_result"
    }
   ],
   "source": [
    "dict(posts_sci.dtypes)"
   ]
  },
  {
   "cell_type": "code",
   "execution_count": 10,
   "id": "7646798a-dbd0-48a8-9ac9-02e1b8a72fc0",
   "metadata": {},
   "outputs": [
    {
     "data": {
      "text/plain": [
       "False    975\n",
       "True      25\n",
       "dtype: int64"
      ]
     },
     "execution_count": 10,
     "metadata": {},
     "output_type": "execute_result"
    }
   ],
   "source": [
    "posts_sci.duplicated(subset='title').value_counts()"
   ]
  },
  {
   "cell_type": "markdown",
   "id": "1055bd81-6e48-4e60-8f48-a80bcd672188",
   "metadata": {},
   "source": [
    "## Sub 2\n",
    "___"
   ]
  },
  {
   "cell_type": "code",
   "execution_count": 12,
   "id": "57c4ed06-7457-466a-9022-0784d12b187f",
   "metadata": {},
   "outputs": [],
   "source": [
    "posts_unpop = pd.DataFrame()\n",
    "last = int(time.time())"
   ]
  },
  {
   "cell_type": "code",
   "execution_count": 13,
   "id": "409db9ce-a617-4f16-ae5d-34ef54fb805a",
   "metadata": {},
   "outputs": [],
   "source": [
    "while posts_unpop.shape[0] < 1000:\n",
    "    params = {\n",
    "'subreddit' : 'unpopularopinion',\n",
    "'size' : 100,\n",
    "'before' : last,\n",
    "}\n",
    "    res_unpop = requests.get(base_url, params=params)\n",
    "    if res_unpop.status_code == 200:\n",
    "#         if successful\n",
    "        if int(posts_unpop.shape[0]) == 0:\n",
    "#             if this is the first time, overwrite the existing df\n",
    "            posts_unpop = pd.DataFrame(res_unpop.json()['data'])[['title', 'selftext', 'subreddit', 'created_utc']]\n",
    "            last = posts_unpop['created_utc'].values[-1]\n",
    "            time.sleep(7)\n",
    "        else:\n",
    "#             otherwise merge the new data with the existing df\n",
    "            data = res_unpop.json()\n",
    "            posts_unpop2 = pd.DataFrame(res_unpop.json()['data'])[['title', 'selftext', 'subreddit', 'created_utc']]\n",
    "            posts_unpop = pd.concat([posts_unpop, \n",
    "                       posts_unpop2], ignore_index=True)\n",
    "            last = posts_unpop['created_utc'].values[-1]\n",
    "            time.sleep(7)\n",
    "    else:\n",
    "        print('a problem occured')"
   ]
  },
  {
   "cell_type": "code",
   "execution_count": 14,
   "id": "472a8069-f706-4eca-9b76-459c9ac4e33b",
   "metadata": {},
   "outputs": [
    {
     "data": {
      "text/html": [
       "<div>\n",
       "<style scoped>\n",
       "    .dataframe tbody tr th:only-of-type {\n",
       "        vertical-align: middle;\n",
       "    }\n",
       "\n",
       "    .dataframe tbody tr th {\n",
       "        vertical-align: top;\n",
       "    }\n",
       "\n",
       "    .dataframe thead th {\n",
       "        text-align: right;\n",
       "    }\n",
       "</style>\n",
       "<table border=\"1\" class=\"dataframe\">\n",
       "  <thead>\n",
       "    <tr style=\"text-align: right;\">\n",
       "      <th></th>\n",
       "      <th>title</th>\n",
       "      <th>selftext</th>\n",
       "      <th>subreddit</th>\n",
       "      <th>created_utc</th>\n",
       "    </tr>\n",
       "  </thead>\n",
       "  <tbody>\n",
       "    <tr>\n",
       "      <th>0</th>\n",
       "      <td>Americans are extremly hypocrite with their vi...</td>\n",
       "      <td>[removed]</td>\n",
       "      <td>unpopularopinion</td>\n",
       "      <td>1646168165</td>\n",
       "    </tr>\n",
       "    <tr>\n",
       "      <th>1</th>\n",
       "      <td>We give the n-word too much power</td>\n",
       "      <td>[removed]</td>\n",
       "      <td>unpopularopinion</td>\n",
       "      <td>1646167946</td>\n",
       "    </tr>\n",
       "    <tr>\n",
       "      <th>2</th>\n",
       "      <td>Hairy chests are irresistibly attractive</td>\n",
       "      <td>Go ahead and pop that second button, then go a...</td>\n",
       "      <td>unpopularopinion</td>\n",
       "      <td>1646167880</td>\n",
       "    </tr>\n",
       "    <tr>\n",
       "      <th>3</th>\n",
       "      <td>An Apology.</td>\n",
       "      <td>[removed]</td>\n",
       "      <td>unpopularopinion</td>\n",
       "      <td>1646167723</td>\n",
       "    </tr>\n",
       "    <tr>\n",
       "      <th>4</th>\n",
       "      <td>It's not right to ban Russian athletes and art...</td>\n",
       "      <td>[removed]</td>\n",
       "      <td>unpopularopinion</td>\n",
       "      <td>1646167622</td>\n",
       "    </tr>\n",
       "    <tr>\n",
       "      <th>...</th>\n",
       "      <td>...</td>\n",
       "      <td>...</td>\n",
       "      <td>...</td>\n",
       "      <td>...</td>\n",
       "    </tr>\n",
       "    <tr>\n",
       "      <th>1093</th>\n",
       "      <td>It’s bizarre and petty to have a day of the we...</td>\n",
       "      <td>It’s fine if you’re least favorite day is the ...</td>\n",
       "      <td>unpopularopinion</td>\n",
       "      <td>1646070677</td>\n",
       "    </tr>\n",
       "    <tr>\n",
       "      <th>1094</th>\n",
       "      <td>Russia's invasion of Ukraine isn't any worse t...</td>\n",
       "      <td>[removed]</td>\n",
       "      <td>unpopularopinion</td>\n",
       "      <td>1646070461</td>\n",
       "    </tr>\n",
       "    <tr>\n",
       "      <th>1095</th>\n",
       "      <td>Porn is not a bad way of being introduced to sex</td>\n",
       "      <td>First of all, I think people underestimate jus...</td>\n",
       "      <td>unpopularopinion</td>\n",
       "      <td>1646070383</td>\n",
       "    </tr>\n",
       "    <tr>\n",
       "      <th>1096</th>\n",
       "      <td>I'm not pro-war.</td>\n",
       "      <td>[removed]</td>\n",
       "      <td>unpopularopinion</td>\n",
       "      <td>1646070328</td>\n",
       "    </tr>\n",
       "    <tr>\n",
       "      <th>1097</th>\n",
       "      <td>If an anime gives a child huge tits and ass it...</td>\n",
       "      <td>NaN</td>\n",
       "      <td>unpopularopinion</td>\n",
       "      <td>1646070307</td>\n",
       "    </tr>\n",
       "  </tbody>\n",
       "</table>\n",
       "<p>1096 rows × 4 columns</p>\n",
       "</div>"
      ],
      "text/plain": [
       "                                                  title  \\\n",
       "0     Americans are extremly hypocrite with their vi...   \n",
       "1                     We give the n-word too much power   \n",
       "2              Hairy chests are irresistibly attractive   \n",
       "3                                           An Apology.   \n",
       "4     It's not right to ban Russian athletes and art...   \n",
       "...                                                 ...   \n",
       "1093  It’s bizarre and petty to have a day of the we...   \n",
       "1094  Russia's invasion of Ukraine isn't any worse t...   \n",
       "1095   Porn is not a bad way of being introduced to sex   \n",
       "1096                                   I'm not pro-war.   \n",
       "1097  If an anime gives a child huge tits and ass it...   \n",
       "\n",
       "                                               selftext         subreddit  \\\n",
       "0                                             [removed]  unpopularopinion   \n",
       "1                                             [removed]  unpopularopinion   \n",
       "2     Go ahead and pop that second button, then go a...  unpopularopinion   \n",
       "3                                             [removed]  unpopularopinion   \n",
       "4                                             [removed]  unpopularopinion   \n",
       "...                                                 ...               ...   \n",
       "1093  It’s fine if you’re least favorite day is the ...  unpopularopinion   \n",
       "1094                                          [removed]  unpopularopinion   \n",
       "1095  First of all, I think people underestimate jus...  unpopularopinion   \n",
       "1096                                          [removed]  unpopularopinion   \n",
       "1097                                                NaN  unpopularopinion   \n",
       "\n",
       "      created_utc  \n",
       "0      1646168165  \n",
       "1      1646167946  \n",
       "2      1646167880  \n",
       "3      1646167723  \n",
       "4      1646167622  \n",
       "...           ...  \n",
       "1093   1646070677  \n",
       "1094   1646070461  \n",
       "1095   1646070383  \n",
       "1096   1646070328  \n",
       "1097   1646070307  \n",
       "\n",
       "[1096 rows x 4 columns]"
      ]
     },
     "execution_count": 14,
     "metadata": {},
     "output_type": "execute_result"
    }
   ],
   "source": [
    "posts_unpop.drop_duplicates()"
   ]
  },
  {
   "cell_type": "code",
   "execution_count": 17,
   "id": "0bdb4bd8-4305-44ef-9670-0048e9842caa",
   "metadata": {},
   "outputs": [
    {
     "data": {
      "text/plain": [
       "False    1061\n",
       "True       37\n",
       "dtype: int64"
      ]
     },
     "execution_count": 17,
     "metadata": {},
     "output_type": "execute_result"
    }
   ],
   "source": [
    "posts_unpop.duplicated(subset='title').value_counts()"
   ]
  },
  {
   "cell_type": "code",
   "execution_count": 15,
   "id": "34480d15-b2f8-4873-ba3e-b704cbaccafa",
   "metadata": {
    "tags": []
   },
   "outputs": [
    {
     "data": {
      "text/html": [
       "<div>\n",
       "<style scoped>\n",
       "    .dataframe tbody tr th:only-of-type {\n",
       "        vertical-align: middle;\n",
       "    }\n",
       "\n",
       "    .dataframe tbody tr th {\n",
       "        vertical-align: top;\n",
       "    }\n",
       "\n",
       "    .dataframe thead th {\n",
       "        text-align: right;\n",
       "    }\n",
       "</style>\n",
       "<table border=\"1\" class=\"dataframe\">\n",
       "  <thead>\n",
       "    <tr style=\"text-align: right;\">\n",
       "      <th></th>\n",
       "      <th>title</th>\n",
       "      <th>selftext</th>\n",
       "      <th>subreddit</th>\n",
       "      <th>created_utc</th>\n",
       "    </tr>\n",
       "  </thead>\n",
       "  <tbody>\n",
       "    <tr>\n",
       "      <th>0</th>\n",
       "      <td>Americans are extremly hypocrite with their vi...</td>\n",
       "      <td>[removed]</td>\n",
       "      <td>unpopularopinion</td>\n",
       "      <td>1646168165</td>\n",
       "    </tr>\n",
       "    <tr>\n",
       "      <th>1</th>\n",
       "      <td>We give the n-word too much power</td>\n",
       "      <td>[removed]</td>\n",
       "      <td>unpopularopinion</td>\n",
       "      <td>1646167946</td>\n",
       "    </tr>\n",
       "    <tr>\n",
       "      <th>2</th>\n",
       "      <td>Hairy chests are irresistibly attractive</td>\n",
       "      <td>Go ahead and pop that second button, then go a...</td>\n",
       "      <td>unpopularopinion</td>\n",
       "      <td>1646167880</td>\n",
       "    </tr>\n",
       "    <tr>\n",
       "      <th>3</th>\n",
       "      <td>An Apology.</td>\n",
       "      <td>[removed]</td>\n",
       "      <td>unpopularopinion</td>\n",
       "      <td>1646167723</td>\n",
       "    </tr>\n",
       "    <tr>\n",
       "      <th>4</th>\n",
       "      <td>It's not right to ban Russian athletes and art...</td>\n",
       "      <td>[removed]</td>\n",
       "      <td>unpopularopinion</td>\n",
       "      <td>1646167622</td>\n",
       "    </tr>\n",
       "    <tr>\n",
       "      <th>...</th>\n",
       "      <td>...</td>\n",
       "      <td>...</td>\n",
       "      <td>...</td>\n",
       "      <td>...</td>\n",
       "    </tr>\n",
       "    <tr>\n",
       "      <th>1093</th>\n",
       "      <td>It’s bizarre and petty to have a day of the we...</td>\n",
       "      <td>It’s fine if you’re least favorite day is the ...</td>\n",
       "      <td>unpopularopinion</td>\n",
       "      <td>1646070677</td>\n",
       "    </tr>\n",
       "    <tr>\n",
       "      <th>1094</th>\n",
       "      <td>Russia's invasion of Ukraine isn't any worse t...</td>\n",
       "      <td>[removed]</td>\n",
       "      <td>unpopularopinion</td>\n",
       "      <td>1646070461</td>\n",
       "    </tr>\n",
       "    <tr>\n",
       "      <th>1095</th>\n",
       "      <td>Porn is not a bad way of being introduced to sex</td>\n",
       "      <td>First of all, I think people underestimate jus...</td>\n",
       "      <td>unpopularopinion</td>\n",
       "      <td>1646070383</td>\n",
       "    </tr>\n",
       "    <tr>\n",
       "      <th>1096</th>\n",
       "      <td>I'm not pro-war.</td>\n",
       "      <td>[removed]</td>\n",
       "      <td>unpopularopinion</td>\n",
       "      <td>1646070328</td>\n",
       "    </tr>\n",
       "    <tr>\n",
       "      <th>1097</th>\n",
       "      <td>If an anime gives a child huge tits and ass it...</td>\n",
       "      <td>NaN</td>\n",
       "      <td>unpopularopinion</td>\n",
       "      <td>1646070307</td>\n",
       "    </tr>\n",
       "  </tbody>\n",
       "</table>\n",
       "<p>1098 rows × 4 columns</p>\n",
       "</div>"
      ],
      "text/plain": [
       "                                                  title  \\\n",
       "0     Americans are extremly hypocrite with their vi...   \n",
       "1                     We give the n-word too much power   \n",
       "2              Hairy chests are irresistibly attractive   \n",
       "3                                           An Apology.   \n",
       "4     It's not right to ban Russian athletes and art...   \n",
       "...                                                 ...   \n",
       "1093  It’s bizarre and petty to have a day of the we...   \n",
       "1094  Russia's invasion of Ukraine isn't any worse t...   \n",
       "1095   Porn is not a bad way of being introduced to sex   \n",
       "1096                                   I'm not pro-war.   \n",
       "1097  If an anime gives a child huge tits and ass it...   \n",
       "\n",
       "                                               selftext         subreddit  \\\n",
       "0                                             [removed]  unpopularopinion   \n",
       "1                                             [removed]  unpopularopinion   \n",
       "2     Go ahead and pop that second button, then go a...  unpopularopinion   \n",
       "3                                             [removed]  unpopularopinion   \n",
       "4                                             [removed]  unpopularopinion   \n",
       "...                                                 ...               ...   \n",
       "1093  It’s fine if you’re least favorite day is the ...  unpopularopinion   \n",
       "1094                                          [removed]  unpopularopinion   \n",
       "1095  First of all, I think people underestimate jus...  unpopularopinion   \n",
       "1096                                          [removed]  unpopularopinion   \n",
       "1097                                                NaN  unpopularopinion   \n",
       "\n",
       "      created_utc  \n",
       "0      1646168165  \n",
       "1      1646167946  \n",
       "2      1646167880  \n",
       "3      1646167723  \n",
       "4      1646167622  \n",
       "...           ...  \n",
       "1093   1646070677  \n",
       "1094   1646070461  \n",
       "1095   1646070383  \n",
       "1096   1646070328  \n",
       "1097   1646070307  \n",
       "\n",
       "[1098 rows x 4 columns]"
      ]
     },
     "execution_count": 15,
     "metadata": {},
     "output_type": "execute_result"
    }
   ],
   "source": [
    "posts_unpop"
   ]
  },
  {
   "cell_type": "code",
   "execution_count": 22,
   "id": "a6d37bd7-81c1-46c5-bc25-5956594c7b62",
   "metadata": {},
   "outputs": [],
   "source": [
    "posts_df = pd.concat([posts_sci, posts_unpop])"
   ]
  },
  {
   "cell_type": "code",
   "execution_count": 23,
   "id": "39d4705c-9c1d-4d02-9e97-8044110ea341",
   "metadata": {},
   "outputs": [
    {
     "data": {
      "text/plain": [
       "(2098, 4)"
      ]
     },
     "execution_count": 23,
     "metadata": {},
     "output_type": "execute_result"
    }
   ],
   "source": [
    "posts_df.shape"
   ]
  },
  {
   "cell_type": "code",
   "execution_count": 27,
   "id": "9f21bf87-7291-4361-9197-4446cbc1ebb6",
   "metadata": {},
   "outputs": [
    {
     "data": {
      "text/plain": [
       "(2095, 4)"
      ]
     },
     "execution_count": 27,
     "metadata": {},
     "output_type": "execute_result"
    }
   ],
   "source": [
    "posts_df.drop_duplicates().shape"
   ]
  },
  {
   "cell_type": "code",
   "execution_count": 28,
   "id": "0bd596f0-f35e-4a05-bba6-27b12ff39fc5",
   "metadata": {},
   "outputs": [],
   "source": [
    "posts_df = posts_df.drop_duplicates()"
   ]
  },
  {
   "cell_type": "markdown",
   "id": "aca5cc21-e361-4410-a08b-42f9f611d220",
   "metadata": {},
   "source": [
    "### Export to CSV:"
   ]
  },
  {
   "cell_type": "code",
   "execution_count": 33,
   "id": "228bde01-bc01-487b-ad54-b8c6f68c24a4",
   "metadata": {},
   "outputs": [],
   "source": [
    "posts_df.to_csv('Datasets/reddit_posts_scrape.csv', index=False)"
   ]
  }
 ],
 "metadata": {
  "kernelspec": {
   "display_name": "Python 3",
   "language": "python",
   "name": "python3"
  },
  "language_info": {
   "codemirror_mode": {
    "name": "ipython",
    "version": 3
   },
   "file_extension": ".py",
   "mimetype": "text/x-python",
   "name": "python",
   "nbconvert_exporter": "python",
   "pygments_lexer": "ipython3",
   "version": "3.8.8"
  }
 },
 "nbformat": 4,
 "nbformat_minor": 5
}
