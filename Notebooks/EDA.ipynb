{
 "cells": [
  {
   "cell_type": "markdown",
   "id": "57341f44-eca8-4408-b1fd-ad235564ca53",
   "metadata": {},
   "source": [
    "# Imports\n",
    "___"
   ]
  },
  {
   "cell_type": "code",
   "execution_count": 38,
   "id": "36cd4d5c-5a60-41ab-9aa2-6095d167d8bd",
   "metadata": {},
   "outputs": [],
   "source": [
    "import warnings\n",
    "\n",
    "import pandas as pd\n",
    "import numpy as np\n",
    "from sklearn.pipeline import Pipeline, FeatureUnion\n",
    "from nltk.sentiment.vader import SentimentIntensityAnalyzer\n",
    "from sklearn.feature_extraction.text import CountVectorizer, TfidfVectorizer\n",
    "from sklearn.preprocessing import FunctionTransformer\n",
    "import seaborn as sns\n",
    "import matplotlib.pyplot as plt"
   ]
  },
  {
   "cell_type": "markdown",
   "id": "9b9f0b9d-0f25-4578-8c6f-5e2f7b6a4f4a",
   "metadata": {},
   "source": [
    "# Create DataFrame\n",
    "___"
   ]
  },
  {
   "cell_type": "code",
   "execution_count": 39,
   "id": "6e8a504b-b0d2-40f0-92cc-46c3da148271",
   "metadata": {},
   "outputs": [],
   "source": [
    "posts = pd.read_csv('Datasets/reddit_posts_scrape.csv')"
   ]
  },
  {
   "cell_type": "code",
   "execution_count": 40,
   "id": "ca801961-47fd-4327-a55d-2646dc44a48f",
   "metadata": {},
   "outputs": [
    {
     "data": {
      "text/html": [
       "<div>\n",
       "<style scoped>\n",
       "    .dataframe tbody tr th:only-of-type {\n",
       "        vertical-align: middle;\n",
       "    }\n",
       "\n",
       "    .dataframe tbody tr th {\n",
       "        vertical-align: top;\n",
       "    }\n",
       "\n",
       "    .dataframe thead th {\n",
       "        text-align: right;\n",
       "    }\n",
       "</style>\n",
       "<table border=\"1\" class=\"dataframe\">\n",
       "  <thead>\n",
       "    <tr style=\"text-align: right;\">\n",
       "      <th></th>\n",
       "      <th>title</th>\n",
       "      <th>selftext</th>\n",
       "      <th>subreddit</th>\n",
       "      <th>created_utc</th>\n",
       "    </tr>\n",
       "  </thead>\n",
       "  <tbody>\n",
       "    <tr>\n",
       "      <th>0</th>\n",
       "      <td>Can a nuclear bomb set off another nuke?</td>\n",
       "      <td>[removed]</td>\n",
       "      <td>askscience</td>\n",
       "      <td>1646168184</td>\n",
       "    </tr>\n",
       "    <tr>\n",
       "      <th>1</th>\n",
       "      <td>God forbid, Russia decides to go for the n nuc...</td>\n",
       "      <td>[removed]</td>\n",
       "      <td>askscience</td>\n",
       "      <td>1646168000</td>\n",
       "    </tr>\n",
       "    <tr>\n",
       "      <th>2</th>\n",
       "      <td>Why can the common cold coexist with Covid?</td>\n",
       "      <td>[removed]</td>\n",
       "      <td>askscience</td>\n",
       "      <td>1646167864</td>\n",
       "    </tr>\n",
       "    <tr>\n",
       "      <th>3</th>\n",
       "      <td>What fuel burns for the longest?</td>\n",
       "      <td>[removed]</td>\n",
       "      <td>askscience</td>\n",
       "      <td>1646167761</td>\n",
       "    </tr>\n",
       "    <tr>\n",
       "      <th>4</th>\n",
       "      <td>Electromagnetic force</td>\n",
       "      <td>[removed]</td>\n",
       "      <td>askscience</td>\n",
       "      <td>1646167434</td>\n",
       "    </tr>\n",
       "  </tbody>\n",
       "</table>\n",
       "</div>"
      ],
      "text/plain": [
       "                                               title   selftext   subreddit  \\\n",
       "0           Can a nuclear bomb set off another nuke?  [removed]  askscience   \n",
       "1  God forbid, Russia decides to go for the n nuc...  [removed]  askscience   \n",
       "2        Why can the common cold coexist with Covid?  [removed]  askscience   \n",
       "3                   What fuel burns for the longest?  [removed]  askscience   \n",
       "4                              Electromagnetic force  [removed]  askscience   \n",
       "\n",
       "   created_utc  \n",
       "0   1646168184  \n",
       "1   1646168000  \n",
       "2   1646167864  \n",
       "3   1646167761  \n",
       "4   1646167434  "
      ]
     },
     "execution_count": 40,
     "metadata": {},
     "output_type": "execute_result"
    }
   ],
   "source": [
    "posts.head()"
   ]
  },
  {
   "cell_type": "code",
   "execution_count": 41,
   "id": "a0c708b2-89f2-4f7d-a455-ac03b5054026",
   "metadata": {},
   "outputs": [
    {
     "data": {
      "text/plain": [
       "(2095, 4)"
      ]
     },
     "execution_count": 41,
     "metadata": {},
     "output_type": "execute_result"
    }
   ],
   "source": [
    "posts.shape"
   ]
  },
  {
   "cell_type": "code",
   "execution_count": 42,
   "id": "30b96ddc-a5b5-4091-b04d-8e5a88b4aa62",
   "metadata": {},
   "outputs": [
    {
     "data": {
      "text/plain": [
       "array(['askscience', 'unpopularopinion'], dtype=object)"
      ]
     },
     "execution_count": 42,
     "metadata": {},
     "output_type": "execute_result"
    }
   ],
   "source": [
    "posts['subreddit'].unique()"
   ]
  },
  {
   "cell_type": "code",
   "execution_count": 43,
   "id": "0aa652d9-ca23-49a9-b4b5-efebb2019cda",
   "metadata": {},
   "outputs": [],
   "source": [
    "posts['target'] = posts['subreddit'].map({'askscience':0, 'unpopularopinion': 1})"
   ]
  },
  {
   "cell_type": "code",
   "execution_count": 44,
   "id": "961f26eb-1843-449d-b1ed-1545022637b5",
   "metadata": {},
   "outputs": [
    {
     "data": {
      "text/html": [
       "<div>\n",
       "<style scoped>\n",
       "    .dataframe tbody tr th:only-of-type {\n",
       "        vertical-align: middle;\n",
       "    }\n",
       "\n",
       "    .dataframe tbody tr th {\n",
       "        vertical-align: top;\n",
       "    }\n",
       "\n",
       "    .dataframe thead th {\n",
       "        text-align: right;\n",
       "    }\n",
       "</style>\n",
       "<table border=\"1\" class=\"dataframe\">\n",
       "  <thead>\n",
       "    <tr style=\"text-align: right;\">\n",
       "      <th></th>\n",
       "      <th>title</th>\n",
       "      <th>selftext</th>\n",
       "      <th>subreddit</th>\n",
       "      <th>created_utc</th>\n",
       "      <th>target</th>\n",
       "    </tr>\n",
       "  </thead>\n",
       "  <tbody>\n",
       "    <tr>\n",
       "      <th>0</th>\n",
       "      <td>Can a nuclear bomb set off another nuke?</td>\n",
       "      <td>[removed]</td>\n",
       "      <td>askscience</td>\n",
       "      <td>1646168184</td>\n",
       "      <td>0</td>\n",
       "    </tr>\n",
       "    <tr>\n",
       "      <th>1</th>\n",
       "      <td>God forbid, Russia decides to go for the n nuc...</td>\n",
       "      <td>[removed]</td>\n",
       "      <td>askscience</td>\n",
       "      <td>1646168000</td>\n",
       "      <td>0</td>\n",
       "    </tr>\n",
       "    <tr>\n",
       "      <th>2</th>\n",
       "      <td>Why can the common cold coexist with Covid?</td>\n",
       "      <td>[removed]</td>\n",
       "      <td>askscience</td>\n",
       "      <td>1646167864</td>\n",
       "      <td>0</td>\n",
       "    </tr>\n",
       "    <tr>\n",
       "      <th>3</th>\n",
       "      <td>What fuel burns for the longest?</td>\n",
       "      <td>[removed]</td>\n",
       "      <td>askscience</td>\n",
       "      <td>1646167761</td>\n",
       "      <td>0</td>\n",
       "    </tr>\n",
       "    <tr>\n",
       "      <th>4</th>\n",
       "      <td>Electromagnetic force</td>\n",
       "      <td>[removed]</td>\n",
       "      <td>askscience</td>\n",
       "      <td>1646167434</td>\n",
       "      <td>0</td>\n",
       "    </tr>\n",
       "  </tbody>\n",
       "</table>\n",
       "</div>"
      ],
      "text/plain": [
       "                                               title   selftext   subreddit  \\\n",
       "0           Can a nuclear bomb set off another nuke?  [removed]  askscience   \n",
       "1  God forbid, Russia decides to go for the n nuc...  [removed]  askscience   \n",
       "2        Why can the common cold coexist with Covid?  [removed]  askscience   \n",
       "3                   What fuel burns for the longest?  [removed]  askscience   \n",
       "4                              Electromagnetic force  [removed]  askscience   \n",
       "\n",
       "   created_utc  target  \n",
       "0   1646168184       0  \n",
       "1   1646168000       0  \n",
       "2   1646167864       0  \n",
       "3   1646167761       0  \n",
       "4   1646167434       0  "
      ]
     },
     "execution_count": 44,
     "metadata": {},
     "output_type": "execute_result"
    }
   ],
   "source": [
    "posts.head()"
   ]
  },
  {
   "cell_type": "markdown",
   "id": "f12b3079-d712-4ace-9f3d-52ea30ad3138",
   "metadata": {},
   "source": [
    "# Cleaning\n",
    "___"
   ]
  },
  {
   "cell_type": "code",
   "execution_count": 45,
   "id": "300a5d15-5246-4a53-a90e-3799cdd86a6a",
   "metadata": {},
   "outputs": [
    {
     "data": {
      "text/plain": [
       "title           0\n",
       "selftext       11\n",
       "subreddit       0\n",
       "created_utc     0\n",
       "target          0\n",
       "dtype: int64"
      ]
     },
     "execution_count": 45,
     "metadata": {},
     "output_type": "execute_result"
    }
   ],
   "source": [
    "posts.isna().sum()"
   ]
  },
  {
   "cell_type": "code",
   "execution_count": 46,
   "id": "6c8efd1e-5174-4fb5-88b8-a7b9fcae8231",
   "metadata": {},
   "outputs": [],
   "source": [
    "posts.fillna('', inplace=True)"
   ]
  },
  {
   "cell_type": "code",
   "execution_count": 47,
   "id": "1265c63b-a6a3-4646-857f-4f2a845a0feb",
   "metadata": {},
   "outputs": [],
   "source": [
    "posts['selftext'] = posts['selftext'].map(lambda x: '' if x =='[removed]' else x)"
   ]
  },
  {
   "cell_type": "code",
   "execution_count": 48,
   "id": "d7989ca3-bd8e-4fc4-a92d-6864eead469f",
   "metadata": {},
   "outputs": [
    {
     "data": {
      "text/plain": [
       "title          0\n",
       "selftext       0\n",
       "subreddit      0\n",
       "created_utc    0\n",
       "target         0\n",
       "dtype: int64"
      ]
     },
     "execution_count": 48,
     "metadata": {},
     "output_type": "execute_result"
    }
   ],
   "source": [
    "posts.isna().sum()"
   ]
  },
  {
   "cell_type": "code",
   "execution_count": 49,
   "id": "7c39952f-8432-45d8-8a2b-d409fc523e3d",
   "metadata": {},
   "outputs": [],
   "source": [
    "posts['all_text'] = (posts[\"title\"] + posts[\"selftext\"])"
   ]
  },
  {
   "cell_type": "code",
   "execution_count": 50,
   "id": "ab87bf19-4749-4574-8f7f-3506281eed79",
   "metadata": {},
   "outputs": [
    {
     "data": {
      "text/html": [
       "<div>\n",
       "<style scoped>\n",
       "    .dataframe tbody tr th:only-of-type {\n",
       "        vertical-align: middle;\n",
       "    }\n",
       "\n",
       "    .dataframe tbody tr th {\n",
       "        vertical-align: top;\n",
       "    }\n",
       "\n",
       "    .dataframe thead th {\n",
       "        text-align: right;\n",
       "    }\n",
       "</style>\n",
       "<table border=\"1\" class=\"dataframe\">\n",
       "  <thead>\n",
       "    <tr style=\"text-align: right;\">\n",
       "      <th></th>\n",
       "      <th>title</th>\n",
       "      <th>selftext</th>\n",
       "      <th>subreddit</th>\n",
       "      <th>created_utc</th>\n",
       "      <th>target</th>\n",
       "      <th>all_text</th>\n",
       "    </tr>\n",
       "  </thead>\n",
       "  <tbody>\n",
       "    <tr>\n",
       "      <th>0</th>\n",
       "      <td>Can a nuclear bomb set off another nuke?</td>\n",
       "      <td></td>\n",
       "      <td>askscience</td>\n",
       "      <td>1646168184</td>\n",
       "      <td>0</td>\n",
       "      <td>Can a nuclear bomb set off another nuke?</td>\n",
       "    </tr>\n",
       "    <tr>\n",
       "      <th>1</th>\n",
       "      <td>God forbid, Russia decides to go for the n nuc...</td>\n",
       "      <td></td>\n",
       "      <td>askscience</td>\n",
       "      <td>1646168000</td>\n",
       "      <td>0</td>\n",
       "      <td>God forbid, Russia decides to go for the n nuc...</td>\n",
       "    </tr>\n",
       "    <tr>\n",
       "      <th>2</th>\n",
       "      <td>Why can the common cold coexist with Covid?</td>\n",
       "      <td></td>\n",
       "      <td>askscience</td>\n",
       "      <td>1646167864</td>\n",
       "      <td>0</td>\n",
       "      <td>Why can the common cold coexist with Covid?</td>\n",
       "    </tr>\n",
       "    <tr>\n",
       "      <th>3</th>\n",
       "      <td>What fuel burns for the longest?</td>\n",
       "      <td></td>\n",
       "      <td>askscience</td>\n",
       "      <td>1646167761</td>\n",
       "      <td>0</td>\n",
       "      <td>What fuel burns for the longest?</td>\n",
       "    </tr>\n",
       "    <tr>\n",
       "      <th>4</th>\n",
       "      <td>Electromagnetic force</td>\n",
       "      <td></td>\n",
       "      <td>askscience</td>\n",
       "      <td>1646167434</td>\n",
       "      <td>0</td>\n",
       "      <td>Electromagnetic force</td>\n",
       "    </tr>\n",
       "  </tbody>\n",
       "</table>\n",
       "</div>"
      ],
      "text/plain": [
       "                                               title selftext   subreddit  \\\n",
       "0           Can a nuclear bomb set off another nuke?           askscience   \n",
       "1  God forbid, Russia decides to go for the n nuc...           askscience   \n",
       "2        Why can the common cold coexist with Covid?           askscience   \n",
       "3                   What fuel burns for the longest?           askscience   \n",
       "4                              Electromagnetic force           askscience   \n",
       "\n",
       "   created_utc  target                                           all_text  \n",
       "0   1646168184       0           Can a nuclear bomb set off another nuke?  \n",
       "1   1646168000       0  God forbid, Russia decides to go for the n nuc...  \n",
       "2   1646167864       0        Why can the common cold coexist with Covid?  \n",
       "3   1646167761       0                   What fuel burns for the longest?  \n",
       "4   1646167434       0                              Electromagnetic force  "
      ]
     },
     "execution_count": 50,
     "metadata": {},
     "output_type": "execute_result"
    }
   ],
   "source": [
    "posts.head()"
   ]
  },
  {
   "cell_type": "markdown",
   "id": "5e628b4d-eb8e-4865-909c-7233b7993bc2",
   "metadata": {},
   "source": [
    "## Adding feature columns\n",
    "___"
   ]
  },
  {
   "cell_type": "markdown",
   "id": "904444a4-e16f-4adf-8bef-8d79fca41ac0",
   "metadata": {},
   "source": [
    "#### Adding word count"
   ]
  },
  {
   "cell_type": "code",
   "execution_count": 51,
   "id": "ada53b8f-f513-491c-9f97-79beac5de773",
   "metadata": {},
   "outputs": [],
   "source": [
    "posts['word_count'] = posts['all_text'].map(lambda x: len([x for words in x.split()]))"
   ]
  },
  {
   "cell_type": "markdown",
   "id": "37fc0e66-5e12-4618-b8d1-79236856860c",
   "metadata": {},
   "source": [
    "#### The data is filtered and ready for addding the sentiment column"
   ]
  },
  {
   "cell_type": "code",
   "execution_count": 52,
   "id": "dc7acdb2-51ef-458a-8f19-d6526992f5fc",
   "metadata": {},
   "outputs": [],
   "source": [
    "sia = SentimentIntensityAnalyzer()"
   ]
  },
  {
   "cell_type": "code",
   "execution_count": 53,
   "id": "8ca5e2ea-524a-43dd-b9a8-796695cc6209",
   "metadata": {},
   "outputs": [],
   "source": [
    "def extract_sentiment(post):\n",
    "    scores = sia.polarity_scores(post)\n",
    "    return scores['compound']"
   ]
  },
  {
   "cell_type": "code",
   "execution_count": 54,
   "id": "2c0e2a4f-e9b9-4b2c-8d8f-e9f15e259cf0",
   "metadata": {},
   "outputs": [],
   "source": [
    "posts['sentiment'] = (posts['all_text']).map(extract_sentiment)"
   ]
  },
  {
   "cell_type": "code",
   "execution_count": 55,
   "id": "fb7b258b-2c24-4699-ac6d-13d561ac8dde",
   "metadata": {},
   "outputs": [
    {
     "data": {
      "text/html": [
       "<div>\n",
       "<style scoped>\n",
       "    .dataframe tbody tr th:only-of-type {\n",
       "        vertical-align: middle;\n",
       "    }\n",
       "\n",
       "    .dataframe tbody tr th {\n",
       "        vertical-align: top;\n",
       "    }\n",
       "\n",
       "    .dataframe thead th {\n",
       "        text-align: right;\n",
       "    }\n",
       "</style>\n",
       "<table border=\"1\" class=\"dataframe\">\n",
       "  <thead>\n",
       "    <tr style=\"text-align: right;\">\n",
       "      <th></th>\n",
       "      <th>title</th>\n",
       "      <th>selftext</th>\n",
       "      <th>subreddit</th>\n",
       "      <th>created_utc</th>\n",
       "      <th>target</th>\n",
       "      <th>all_text</th>\n",
       "      <th>word_count</th>\n",
       "      <th>sentiment</th>\n",
       "    </tr>\n",
       "  </thead>\n",
       "  <tbody>\n",
       "    <tr>\n",
       "      <th>0</th>\n",
       "      <td>Can a nuclear bomb set off another nuke?</td>\n",
       "      <td></td>\n",
       "      <td>askscience</td>\n",
       "      <td>1646168184</td>\n",
       "      <td>0</td>\n",
       "      <td>Can a nuclear bomb set off another nuke?</td>\n",
       "      <td>8</td>\n",
       "      <td>-0.4939</td>\n",
       "    </tr>\n",
       "    <tr>\n",
       "      <th>1</th>\n",
       "      <td>God forbid, Russia decides to go for the n nuc...</td>\n",
       "      <td></td>\n",
       "      <td>askscience</td>\n",
       "      <td>1646168000</td>\n",
       "      <td>0</td>\n",
       "      <td>God forbid, Russia decides to go for the n nuc...</td>\n",
       "      <td>15</td>\n",
       "      <td>-0.0516</td>\n",
       "    </tr>\n",
       "    <tr>\n",
       "      <th>2</th>\n",
       "      <td>Why can the common cold coexist with Covid?</td>\n",
       "      <td></td>\n",
       "      <td>askscience</td>\n",
       "      <td>1646167864</td>\n",
       "      <td>0</td>\n",
       "      <td>Why can the common cold coexist with Covid?</td>\n",
       "      <td>8</td>\n",
       "      <td>0.0000</td>\n",
       "    </tr>\n",
       "    <tr>\n",
       "      <th>3</th>\n",
       "      <td>What fuel burns for the longest?</td>\n",
       "      <td></td>\n",
       "      <td>askscience</td>\n",
       "      <td>1646167761</td>\n",
       "      <td>0</td>\n",
       "      <td>What fuel burns for the longest?</td>\n",
       "      <td>6</td>\n",
       "      <td>0.0000</td>\n",
       "    </tr>\n",
       "    <tr>\n",
       "      <th>4</th>\n",
       "      <td>Electromagnetic force</td>\n",
       "      <td></td>\n",
       "      <td>askscience</td>\n",
       "      <td>1646167434</td>\n",
       "      <td>0</td>\n",
       "      <td>Electromagnetic force</td>\n",
       "      <td>2</td>\n",
       "      <td>0.0000</td>\n",
       "    </tr>\n",
       "  </tbody>\n",
       "</table>\n",
       "</div>"
      ],
      "text/plain": [
       "                                               title selftext   subreddit  \\\n",
       "0           Can a nuclear bomb set off another nuke?           askscience   \n",
       "1  God forbid, Russia decides to go for the n nuc...           askscience   \n",
       "2        Why can the common cold coexist with Covid?           askscience   \n",
       "3                   What fuel burns for the longest?           askscience   \n",
       "4                              Electromagnetic force           askscience   \n",
       "\n",
       "   created_utc  target                                           all_text  \\\n",
       "0   1646168184       0           Can a nuclear bomb set off another nuke?   \n",
       "1   1646168000       0  God forbid, Russia decides to go for the n nuc...   \n",
       "2   1646167864       0        Why can the common cold coexist with Covid?   \n",
       "3   1646167761       0                   What fuel burns for the longest?   \n",
       "4   1646167434       0                              Electromagnetic force   \n",
       "\n",
       "   word_count  sentiment  \n",
       "0           8    -0.4939  \n",
       "1          15    -0.0516  \n",
       "2           8     0.0000  \n",
       "3           6     0.0000  \n",
       "4           2     0.0000  "
      ]
     },
     "execution_count": 55,
     "metadata": {},
     "output_type": "execute_result"
    }
   ],
   "source": [
    "posts.head()"
   ]
  },
  {
   "cell_type": "markdown",
   "id": "9c942e11-4317-4060-9f23-91609973f47c",
   "metadata": {},
   "source": [
    "#### Export Cleaned Dataset for Modeling:"
   ]
  },
  {
   "cell_type": "code",
   "execution_count": 56,
   "id": "b86fbe3d-cf7f-462b-8aca-fca799c76e14",
   "metadata": {},
   "outputs": [],
   "source": [
    "posts.to_csv('Datasets/reddit_posts_clean.csv', index=False)"
   ]
  },
  {
   "cell_type": "markdown",
   "id": "f7589054-432c-4ab7-87d3-143419ae6391",
   "metadata": {},
   "source": [
    "## Analysis and insights\n",
    "___"
   ]
  },
  {
   "cell_type": "markdown",
   "id": "e8a70ba2-f64f-441c-80de-fea52007b553",
   "metadata": {},
   "source": [
    "### Sentiment"
   ]
  },
  {
   "cell_type": "code",
   "execution_count": 57,
   "id": "3966a535-a414-45a8-b821-93db6dbe5ed7",
   "metadata": {},
   "outputs": [
    {
     "data": {
      "text/plain": [
       "subreddit\n",
       "askscience          0.011497\n",
       "unpopularopinion   -0.031249\n",
       "Name: sentiment, dtype: float64"
      ]
     },
     "execution_count": 57,
     "metadata": {},
     "output_type": "execute_result"
    }
   ],
   "source": [
    "posts.groupby('subreddit').mean()['sentiment']"
   ]
  },
  {
   "cell_type": "code",
   "execution_count": 59,
   "id": "e3f3ba45-fee1-4a4e-a28d-5fb10a2454b3",
   "metadata": {},
   "outputs": [
    {
     "data": {
      "image/png": "[encoded data removed]",
      "text/plain": [
       "<Figure size 864x576 with 1 Axes>"
      ]
     },
     "metadata": {
      "needs_background": "light"
     },
     "output_type": "display_data"
    }
   ],
   "source": [
    "with warnings.catch_warnings(record=True):\n",
    "# remove depricated function warning\n",
    "\n",
    "    plt.figure(figsize=(12, 8))\n",
    "    sns.distplot(x = posts[posts['subreddit']=='askscience'] ['sentiment'], color='#58a39e'),\n",
    "    sns.distplot(x= posts[posts['subreddit']=='unpopularopinion'] ['sentiment'], color='#745b62')\n",
    "    plt.legend(labels=['askscience','unpopularopinion'], fontsize = 18)\n",
    "    plt.xlabel(\"Post Sentiment\", fontsize = 20)\n",
    "    plt.ylabel(\"Number of Posts\", fontsize = 20);"
   ]
  },
  {
   "cell_type": "markdown",
   "id": "677a0ca3-53bf-4c85-8236-445a82660e90",
   "metadata": {},
   "source": [
    "___This displays the distribution of sentiment by subreddit. Based on this, it seems that discussions in askscience are more neutral in tone, while posts to unpopular opinion seem to be very polarized.___"
   ]
  },
  {
   "cell_type": "markdown",
   "id": "52fdb4a3-b78b-49a1-bf08-43b6be45b07a",
   "metadata": {},
   "source": [
    "### Word Count"
   ]
  },
  {
   "cell_type": "code",
   "execution_count": 60,
   "id": "c65ef7d3-bd6a-40ee-9f8d-5ca429c34170",
   "metadata": {},
   "outputs": [
    {
     "data": {
      "text/plain": [
       "subreddit\n",
       "askscience          13.543544\n",
       "unpopularopinion    48.190693\n",
       "Name: word_count, dtype: float64"
      ]
     },
     "execution_count": 60,
     "metadata": {},
     "output_type": "execute_result"
    }
   ],
   "source": [
    "posts.groupby('subreddit').mean()['word_count']"
   ]
  },
  {
   "cell_type": "code",
   "execution_count": 61,
   "id": "cc902a6f-8c2c-44e0-b5ed-601168138913",
   "metadata": {},
   "outputs": [
    {
     "data": {
      "image/png": "[encoded data removed]",
      "text/plain": [
       "<Figure size 720x576 with 1 Axes>"
      ]
     },
     "metadata": {
      "needs_background": "light"
     },
     "output_type": "display_data"
    }
   ],
   "source": [
    "with warnings.catch_warnings(record=True):\n",
    "# remove depricated function warning\n",
    "\n",
    "    plt.figure(figsize=(10, 8))\n",
    "    plt.xlim(0, 220)\n",
    "    sns.distplot(x = posts[posts['subreddit']=='askscience'] ['word_count'], color='#58a39e'),\n",
    "    sns.distplot(x= posts[posts['subreddit']=='unpopularopinion'] ['word_count'], color='#745b62')\n",
    "    plt.legend(labels=['askscience','unpopularopinion'], fontsize = 18)\n",
    "    plt.xlabel(\"Post Word Count\", fontsize = 20)\n",
    "    plt.ylabel(\"Number of Posts\", fontsize = 20);"
   ]
  },
  {
   "cell_type": "markdown",
   "id": "37318215-b550-4e46-b088-f5b19989d4f0",
   "metadata": {},
   "source": [
    "___It seems that posts to askscience are generally shorter, having word counts that stay bellow 30 and average only 13.5. While many posts from askscience are on the shorter side, the right squewed distribution clearly demonstrates that many posts go well above this, and the average is nearly 50 words.___"
   ]
  },
  {
   "cell_type": "markdown",
   "id": "2b26ee19-59d5-40a6-a2fd-e0e0652edbaa",
   "metadata": {},
   "source": [
    "### Show the 15 frequency of the most common words\n",
    "___"
   ]
  },
  {
   "cell_type": "code",
   "execution_count": 62,
   "id": "65c5aadd-f5ca-4736-9fe4-f7dbbc6d5156",
   "metadata": {},
   "outputs": [],
   "source": [
    "asksci_posts = posts[posts['subreddit']== 'askscience']"
   ]
  },
  {
   "cell_type": "code",
   "execution_count": 63,
   "id": "bccd87c7-3125-41a3-a132-7ae0643b997d",
   "metadata": {},
   "outputs": [],
   "source": [
    "unpop_posts = posts[posts['subreddit']== 'unpopularopinion']"
   ]
  },
  {
   "cell_type": "markdown",
   "id": "cd9af113-8017-4772-8add-204b55e2ba4f",
   "metadata": {},
   "source": [
    "#### Create top words pipeline"
   ]
  },
  {
   "cell_type": "code",
   "execution_count": 64,
   "id": "29dbde06-7e3c-4076-bae2-97f104a9780b",
   "metadata": {},
   "outputs": [],
   "source": [
    "def get_title(df):\n",
    "    return df['all_text']\n",
    "\n",
    "get_title_trasnformer = FunctionTransformer(get_title, validate=False)"
   ]
  },
  {
   "cell_type": "code",
   "execution_count": 65,
   "id": "1c492ead-4ddd-4a93-a2a8-42af1f0e7bd8",
   "metadata": {},
   "outputs": [],
   "source": [
    "def sparse_to_dense(sparse_matrix):\n",
    "    return np.asarray(sparse_matrix.todense())\n",
    "\n",
    "sparse_to_dense_trasnformer = FunctionTransformer(sparse_to_dense, validate=False)"
   ]
  },
  {
   "cell_type": "code",
   "execution_count": 66,
   "id": "745dedc5-7d7e-4e0c-9ece-9809c8ca5051",
   "metadata": {},
   "outputs": [],
   "source": [
    "pipe = Pipeline([\n",
    "    ('title_transform', get_title_trasnformer),\n",
    "    ('cvec', CountVectorizer(stop_words='english')),\n",
    "    ('sparse_to_dense_trasnformer', sparse_to_dense_trasnformer)\n",
    "])"
   ]
  },
  {
   "cell_type": "code",
   "execution_count": 67,
   "id": "7580b57b-b94d-4630-9ef1-3e0e806ea159",
   "metadata": {},
   "outputs": [
    {
     "data": {
      "text/plain": [
       "CountVectorizer(stop_words='english')"
      ]
     },
     "execution_count": 67,
     "metadata": {},
     "output_type": "execute_result"
    }
   ],
   "source": [
    "cvec_sci = CountVectorizer(stop_words='english')\n",
    "cvec_sci.fit(asksci_posts['all_text'])"
   ]
  },
  {
   "cell_type": "code",
   "execution_count": 68,
   "id": "65f66dfb-538a-4fcf-b45b-6156bcf093ef",
   "metadata": {
    "tags": []
   },
   "outputs": [],
   "source": [
    "asksci_posts_cvec = pd.DataFrame(pipe.fit_transform(asksci_posts), columns=cvec_sci.get_feature_names_out())"
   ]
  },
  {
   "cell_type": "code",
   "execution_count": 69,
   "id": "106821cd-5781-4e38-aa68-04b58d351c02",
   "metadata": {},
   "outputs": [],
   "source": [
    "asksci_words = asksci_posts_cvec.sum().sort_values(ascending=False)[:15]"
   ]
  },
  {
   "cell_type": "code",
   "execution_count": 70,
   "id": "11c44e07-2453-4034-8a17-e680573869b7",
   "metadata": {},
   "outputs": [
    {
     "data": {
      "text/plain": [
       "CountVectorizer(stop_words='english')"
      ]
     },
     "execution_count": 70,
     "metadata": {},
     "output_type": "execute_result"
    }
   ],
   "source": [
    "cvec_unpop = CountVectorizer(stop_words='english')\n",
    "cvec_unpop.fit(unpop_posts['all_text'])"
   ]
  },
  {
   "cell_type": "code",
   "execution_count": 71,
   "id": "8bc8ddb5-a16b-4f58-afe3-dfdd4b6f4248",
   "metadata": {},
   "outputs": [],
   "source": [
    "unpop_posts_cvec = pd.DataFrame(pipe.fit_transform(unpop_posts), columns=cvec_unpop.get_feature_names_out())"
   ]
  },
  {
   "cell_type": "code",
   "execution_count": 72,
   "id": "9ed680d7-9f0e-427f-9f6b-b990543cba2d",
   "metadata": {},
   "outputs": [],
   "source": [
    "unpop_words = unpop_posts_cvec.sum().sort_values(ascending=False)[:15]"
   ]
  },
  {
   "cell_type": "markdown",
   "id": "85d16085-1555-408e-aa30-647598fb66e3",
   "metadata": {},
   "source": [
    "#### Most Common Words in Each Subreddit:"
   ]
  },
  {
   "cell_type": "code",
   "execution_count": 73,
   "id": "d7be1ba2-c516-4280-acb0-c3d3f039f01e",
   "metadata": {},
   "outputs": [
    {
     "data": {
      "text/plain": [
       "does         105\n",
       "possible      47\n",
       "earth         43\n",
       "like          40\n",
       "nuclear       39\n",
       "water         34\n",
       "time          28\n",
       "different     28\n",
       "way           28\n",
       "question      27\n",
       "energy        26\n",
       "work          25\n",
       "long          24\n",
       "body          24\n",
       "covid         23\n",
       "dtype: int64"
      ]
     },
     "execution_count": 73,
     "metadata": {},
     "output_type": "execute_result"
    }
   ],
   "source": [
    "asksci_words"
   ]
  },
  {
   "cell_type": "code",
   "execution_count": 74,
   "id": "7b783b35-b336-4a79-a4d0-0b08b0ad942c",
   "metadata": {},
   "outputs": [
    {
     "data": {
      "text/plain": [
       "people    444\n",
       "like      333\n",
       "just      314\n",
       "don       231\n",
       "think     172\n",
       "time      131\n",
       "better    125\n",
       "good      121\n",
       "make      103\n",
       "need      101\n",
       "want       98\n",
       "really     91\n",
       "life       90\n",
       "know       90\n",
       "way        85\n",
       "dtype: int64"
      ]
     },
     "execution_count": 74,
     "metadata": {},
     "output_type": "execute_result"
    }
   ],
   "source": [
    "unpop_words"
   ]
  }
 ],
 "metadata": {
  "kernelspec": {
   "display_name": "Python 3",
   "language": "python",
   "name": "python3"
  },
  "language_info": {
   "codemirror_mode": {
    "name": "ipython",
    "version": 3
   },
   "file_extension": ".py",
   "mimetype": "text/x-python",
   "name": "python",
   "nbconvert_exporter": "python",
   "pygments_lexer": "ipython3",
   "version": "3.8.8"
  }
 },
 "nbformat": 4,
 "nbformat_minor": 5
}
